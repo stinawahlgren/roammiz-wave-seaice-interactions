{
 "cells": [
  {
   "cell_type": "markdown",
   "id": "fe509f88",
   "metadata": {},
   "source": [
    "# Overview of collected data\n",
    "This notebook provides an overview of the data collected by SWIFT buoys. The wavespectra and significant wave height are plotted together with co-located sea ice concentration and local ice condition from SWIFT onboard imagery."
   ]
  },
  {
   "cell_type": "code",
   "execution_count": null,
   "id": "83488450",
   "metadata": {},
   "outputs": [],
   "source": [
    "import pandas as pd\n",
    "import matplotlib.pyplot as plt\n",
    "from matplotlib.colors import LogNorm\n",
    "from matplotlib import rc\n",
    "\n",
    "import plots\n",
    "\n",
    "rc('font', size=20)"
   ]
  },
  {
   "cell_type": "code",
   "execution_count": null,
   "id": "f85ee47a",
   "metadata": {},
   "outputs": [],
   "source": [
    "swift20_winter = pd.read_feather('../processed_data/swift20_winter.feather')\n",
    "swift21_winter = pd.read_feather('../processed_data/swift21_winter.feather')\n",
    "swift20_spring = pd.read_feather('../processed_data/swift20_spring.feather')\n",
    "swift21_spring = pd.read_feather('../processed_data/swift21_spring.feather')"
   ]
  },
  {
   "cell_type": "code",
   "execution_count": null,
   "id": "9e09da2c",
   "metadata": {},
   "outputs": [],
   "source": [
    "fig, ax = plots.subplot_time_grid([swift20_winter, swift20_spring, swift21_winter, swift21_spring], 7, 2 , \n",
    "                                  sharey = False,\n",
    "                                  height_ratios = [1,0.15,1,0.15, 1,0.15,1],\n",
    "                                  hspace = 0.05, wspace = 0.05,\n",
    "                                  )\n",
    "\n",
    "fig.set_size_inches(20, 15)\n",
    "\n",
    "vmin = 1e-5\n",
    "vmax = 10\n",
    "wave_height_ylim = [0, 3]\n",
    "\n",
    "plots.plot_panel(swift20_winter, ax[0:6:2], vmin, vmax, y_right_visible = False, wave_height_ylim = wave_height_ylim)\n",
    "plots.plot_panel(swift20_spring, ax[1:7:2], vmin, vmax, y_left_visible = False, wave_height_ylim = wave_height_ylim)\n",
    "plots.plot_panel(swift21_winter, ax[8:14:2], vmin, vmax, y_right_visible = False, wave_height_ylim = wave_height_ylim)\n",
    "plots.plot_panel(swift21_spring, ax[9:15:2], vmin, vmax, y_left_visible = False, wave_height_ylim = wave_height_ylim)\n",
    "\n",
    "# Create distance between buoys by adding a panel\n",
    "ax[6].axis('off')\n",
    "ax[7].axis('off')\n",
    "\n",
    "plots.nice_time_axis(ax[13])\n",
    "plots.nice_time_axis(ax[12])\n",
    "ax[1].annotate('SWIFT20', xy=(0.01, 0.85), xycoords='axes fraction')\n",
    "ax[9].annotate('SWIFT21', xy=(0.01, 0.85), xycoords='axes fraction')\n",
    "\n",
    "# Add colorbars\n",
    "fig.subplots_adjust(right=0.9)\n",
    "cbar_ax_spectra = fig.add_axes([0.96, 0.53, 0.02, 0.35])\n",
    "fig.colorbar(plt.cm.ScalarMappable(norm = LogNorm(vmin, vmax)),\n",
    "             cax = cbar_ax_spectra,\n",
    "             label = 'Power spectral density (m²/Hz)')\n",
    "\n",
    "cbar_ax_ice = fig.add_axes([0.96, 0.13, 0.02, 0.35])\n",
    "plots.icetype_colorbar(cax=cbar_ax_ice, label = 'Ice code', labelpad=-25)\n",
    "\n",
    "plt.show()"
   ]
  }
 ],
 "metadata": {
  "kernelspec": {
   "display_name": "Python 3 (ipykernel)",
   "language": "python",
   "name": "python3"
  },
  "language_info": {
   "codemirror_mode": {
    "name": "ipython",
    "version": 3
   },
   "file_extension": ".py",
   "mimetype": "text/x-python",
   "name": "python",
   "nbconvert_exporter": "python",
   "pygments_lexer": "ipython3",
   "version": "3.10.10"
  }
 },
 "nbformat": 4,
 "nbformat_minor": 5
}
