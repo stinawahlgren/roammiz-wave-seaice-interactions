{
 "cells": [
  {
   "cell_type": "markdown",
   "id": "5da04c75",
   "metadata": {},
   "source": [
    "# Change in swell wave direction with distance\n",
    "This notebook examines the measured direction of swell waves and connects it to the distance to the ice edge."
   ]
  },
  {
   "cell_type": "code",
   "execution_count": null,
   "id": "3b3de580",
   "metadata": {},
   "outputs": [],
   "source": [
    "import pandas as pd\n",
    "import numpy as np\n",
    "import matplotlib.pyplot as plt\n",
    "from matplotlib.dates import date2num, AutoDateLocator, ConciseDateFormatter\n",
    "from matplotlib.colors import LinearSegmentedColormap\n",
    "from matplotlib.ticker import AutoLocator\n",
    "from matplotlib import rc\n",
    "import cmocean.cm as cmo\n",
    "\n",
    "from misc import pandas_insert_with_overwrite, save_swift_as_mat_file\n",
    "from plots import nice_time_axis\n",
    "rc('font', size = 14)"
   ]
  },
  {
   "cell_type": "code",
   "execution_count": null,
   "id": "719b5325",
   "metadata": {},
   "outputs": [],
   "source": [
    "def truncate_colormap(cmap, minval=0.0, maxval=1.0, n=100):\n",
    "    '''\n",
    "    Source: https://stackoverflow.com/a/18926541\n",
    "    '''\n",
    "    if isinstance(cmap, str):\n",
    "        cmap = plt.get_cmap(cmap)\n",
    "    \n",
    "    new_cmap = LinearSegmentedColormap.from_list(\n",
    "                'trunc({n},{a:.2f},{b:.2f})'.format(n=cmap.name, a=minval, b=maxval),\n",
    "                cmap(np.linspace(minval, maxval, n)))\n",
    "    return new_cmap\n",
    "\n",
    "def plot_ice_edge(ax):\n",
    "    ylim = list(ax.get_ylim())\n",
    "    ax.plot([0,0], ylim, '--k')\n",
    "    ax.set_ylim(ylim)\n",
    "    return\n",
    "\n",
    "def boxplot(bin_centers, data):\n",
    "    # Convert to km\n",
    "    bin_centers__km = 1e-3 * bin_centers\n",
    "    \n",
    "    # Remove nan\n",
    "    non_nan_data = []\n",
    "    for d in data:\n",
    "        non_nan_data.append(d[~np.isnan(d)])\n",
    "       \n",
    "    # Make boxplot        \n",
    "    widths = (bin_centers__km[1]-bin_centers__km[0])\n",
    "    box_plot = plt.boxplot(non_nan_data, positions = bin_centers__km, widths = widths)\n",
    "\n",
    "    # Nicer median line\n",
    "    for median in box_plot['medians']:\n",
    "        median.set_color('black')\n",
    "        median.set_linewidth(2)\n",
    "        \n",
    "    # Make x-axis nice again\n",
    "    xlim = [bin_centers__km[0]-widths, bin_centers__km[-1]+widths]\n",
    "    plt.xlim(xlim)\n",
    "    plt.gca().xaxis.set_major_locator(AutoLocator())\n",
    "    xticks = plt.xticks()[0]\n",
    "    plt.xticks(ticks=xticks, labels=[str(round(tick)) for tick in xticks])\n",
    "    plt.xlim(xlim)\n",
    "    return\n",
    "\n",
    "def valid_wave_direction(swift, swh_threshold):\n",
    "    is_valid = (swift['sigwaveheight'] >= swh_threshold) & ~np.isnan(swift['swell.meandirT'])\n",
    "    pandas_insert_with_overwrite(swift, 'end', 'valid_wave_direction', is_valid)   \n",
    "    return\n",
    "\n",
    "def time_series_scatter_plot(df, x, y, c, where, **kwargs):\n",
    "    df_used = df[df[where]]\n",
    "    plt.scatter(df_used[x], df_used[y], c=df_used[c], **kwargs)\n",
    "    plt.plot(df_used[x], df_used[y], 'k', linewidth = 0.5, zorder = -1)\n",
    "    return"
   ]
  },
  {
   "cell_type": "code",
   "execution_count": null,
   "id": "13af956f",
   "metadata": {},
   "outputs": [],
   "source": [
    "swift20_spring = pd.read_feather(\"../processed_data/swift20_spring.feather\")\n",
    "swift21_spring = pd.read_feather(\"../processed_data/swift21_spring.feather\")"
   ]
  },
  {
   "cell_type": "markdown",
   "id": "fa6b34f6",
   "metadata": {},
   "source": [
    "### Clean data\n",
    "When the wave activity is too low, the measured wave direction will just be noise. In order to remove those data points, we use a threshold on significant wave height."
   ]
  },
  {
   "cell_type": "code",
   "execution_count": null,
   "id": "9778319c",
   "metadata": {},
   "outputs": [],
   "source": [
    "swh_threshold = 0.1 # m\n",
    "\n",
    "valid_wave_direction(swift20_spring, swh_threshold)\n",
    "valid_wave_direction(swift21_spring, swh_threshold)\n",
    "\n",
    "swift = pd.concat([swift20_spring, swift21_spring], ignore_index=True)"
   ]
  },
  {
   "cell_type": "markdown",
   "id": "6ec66f55",
   "metadata": {},
   "source": [
    "### Swell direction plots\n",
    "First, we plot the swell direction as a function of distance to the ice edge for the whole spring deployment. We will color code based on time stamp."
   ]
  },
  {
   "cell_type": "code",
   "execution_count": null,
   "id": "8206ac80",
   "metadata": {},
   "outputs": [],
   "source": [
    "fig = plt.figure(figsize=(10,6))\n",
    "\n",
    "# Create colormap\n",
    "vmin = 0.1\n",
    "vmax = 0.8\n",
    "cmap = truncate_colormap(plt.cm.inferno, vmin, vmax)\n",
    "\n",
    "# Make scatter plot\n",
    "scatter_data = swift[swift.valid_wave_direction]\n",
    "colors = date2num(scatter_data['timestamp'])\n",
    "sc = plt.scatter(scatter_data['dist_meridian']*1e-3, scatter_data['swell.meandirT'], c=colors, s=40, cmap=cmap)\n",
    "ax = plt.gca()\n",
    "\n",
    "# Limits ans labels\n",
    "plt.ylabel('swell wave direction (deg)')\n",
    "plt.xlabel('distance to ice edge along meridian (km)')\n",
    "#plt.ylim([-105,25])\n",
    "plt.grid()\n",
    "\n",
    "# Add colorbar\n",
    "fig.subplots_adjust(right=0.9)\n",
    "cbar_ax = fig.add_axes([0.95, 0.1, 0.03, 0.8])\n",
    "cb = plt.colorbar(sc, cax = cbar_ax)\n",
    "loc = AutoDateLocator()\n",
    "cb.ax.yaxis.set_major_locator(loc)\n",
    "cb.ax.yaxis.set_major_formatter(ConciseDateFormatter(loc))\n",
    "\n",
    "# Mark ice edge\n",
    "plot_ice_edge(ax)\n",
    "ax.annotate('open water', xy = (0.38, 0.87), xycoords = 'axes fraction', color = 'k')\n",
    "ax.annotate('sea ice', xy = (0.58, 0.87), xycoords = 'axes fraction', color = 'k')\n",
    "\n",
    "plt.show()"
   ]
  },
  {
   "cell_type": "markdown",
   "id": "a13e8548",
   "metadata": {},
   "source": [
    "The cluster of points 2019-10-24 to 2019-10-27 is collected by SWIFT20 and associated with a rapid northward movement of the ice edge and two wave events. We therefore believe that this cluster belongs to another wave field, not representative for the rest of the deployment. Apart from this cluster, a trend is seen, where the wave direction tends to be more towards the south, and thus more perpendicular to the ice edge, with increasing distance traveled in sea ice. \n",
    "\n",
    "In order to examine this further, we bin the data after 2019-10-27 based on distance to the ice edge, and study the wave direction and directional spread, as well as co-located sea ice concentration."
   ]
  },
  {
   "cell_type": "code",
   "execution_count": null,
   "id": "a3b1ba20",
   "metadata": {},
   "outputs": [],
   "source": [
    "min_timestamp = np.datetime64('2019-10-27 23:30')\n",
    "number_of_bins = 10\n",
    "\n",
    "binned_data = {'edges': np.linspace(-2.5e5, 2.5e5, number_of_bins+1),\n",
    "               'count'    : [],\n",
    "               'wavedir'  : [],\n",
    "               'spread'   : [],\n",
    "               'sic'      : []\n",
    "              }\n",
    "binned_data['centers'] = 0.5 * (binned_data['edges'][:-1] + binned_data['edges'][1:])\n",
    "\n",
    "swift_used = swift[(swift['timestamp']>min_timestamp) & swift.valid_wave_direction]\n",
    "bin_index = np.digitize(swift_used['dist_meridian'], binned_data['edges'])\n",
    "for i in range(1, number_of_bins+1):\n",
    "    index = (bin_index == i)        \n",
    "    binned_data['count'].append(sum(index))\n",
    "    binned_data['wavedir'].append(swift_used.loc[index]['swell.meandirT'].values)\n",
    "    binned_data['spread'].append(swift_used.loc[index]['swell.dirspread'].values)\n",
    "    binned_data['sic'].append(swift_used.loc[index]['sic'].values)"
   ]
  },
  {
   "cell_type": "markdown",
   "id": "4d72d9f0",
   "metadata": {},
   "source": [
    "### Box-and-whisker plots"
   ]
  },
  {
   "cell_type": "code",
   "execution_count": null,
   "id": "f8ad5bc1",
   "metadata": {},
   "outputs": [],
   "source": [
    "fig, axes = plt.subplots(nrows=2, ncols=2,\n",
    "                         gridspec_kw={'wspace': 0.3,\n",
    "                                      'hspace': 0.1},\n",
    "                         sharex = True,\n",
    "                         figsize=(10,6))\n",
    "\n",
    "# Wave direction\n",
    "plt.sca(axes[0,0])\n",
    "boxplot(binned_data['centers'], binned_data['wavedir'])\n",
    "plt.grid()\n",
    "plot_ice_edge(axes[0,0])\n",
    "axes[0,0].set_ylabel('swell direction (deg)')\n",
    "\n",
    "# Spread\n",
    "plt.sca(axes[0,1])\n",
    "boxplot(binned_data['centers'], binned_data['spread'])\n",
    "plt.grid()\n",
    "plt.ylim([0,82])\n",
    "plot_ice_edge(axes[0,1])\n",
    "axes[0,1].set_ylabel('directional spread (deg)')\n",
    "\n",
    "# Sea ice concentration\n",
    "plt.sca(axes[1,0])\n",
    "boxplot(binned_data['centers'], binned_data['sic'])\n",
    "plot_ice_edge(axes[1,0])\n",
    "plt.grid()\n",
    "axes[1,0].set_xlabel('meridional distance to edge (km)')\n",
    "axes[1,0].set_ylabel('sic (%)')\n",
    "\n",
    "# Bin count\n",
    "axes[1,1].hist(binned_data['centers']*1e-3, \n",
    "               bins    = len(binned_data['count']), \n",
    "               weights = binned_data['count'], \n",
    "               range   = (binned_data['edges'][0]*1e-3,binned_data['edges'][-1]*1e-3),\n",
    "               alpha   = 0.5)\n",
    "#axes[1,1].set_xlim([-150,150])\n",
    "plot_ice_edge(axes[1,1])\n",
    "axes[1,1].grid()\n",
    "axes[1,1].set_xlabel('meridional distance to edge (km)')\n",
    "axes[1,1].set_ylabel('count')\n",
    "\n",
    "plt.show()"
   ]
  },
  {
   "cell_type": "markdown",
   "id": "4cf872a5",
   "metadata": {},
   "source": [
    "### Time series"
   ]
  },
  {
   "cell_type": "code",
   "execution_count": null,
   "id": "14681297",
   "metadata": {},
   "outputs": [],
   "source": [
    "plt.figure(figsize=(10,5))\n",
    "\n",
    "cmap = cmo.balance_r\n",
    "s = 15\n",
    "vmin = -1.5e5\n",
    "vmax = 1.5e5\n",
    "\n",
    "time_series_scatter_plot(swift20_spring, 'timestamp', 'swell.meandirT', 'dist_meridian', 'valid_wave_direction',\n",
    "        vmin=vmin, vmax=vmax, cmap=cmap, s=s)\n",
    "time_series_scatter_plot(swift21_spring, 'timestamp', 'swell.meandirT', 'dist_meridian', 'valid_wave_direction',\n",
    "        vmin=vmin, vmax=vmax, cmap=cmap, s=s)\n",
    "\n",
    "plt.colorbar(label='meridional distance to ice edge(m)')\n",
    "plt.grid()\n",
    "plt.ylabel('mean swell direction')\n",
    "nice_time_axis()\n",
    "\n",
    "plt.savefig('../figures/swell_direction_time_series.png', dpi=300)"
   ]
  },
  {
   "cell_type": "code",
   "execution_count": null,
   "id": "28e4b3e7",
   "metadata": {
    "scrolled": false
   },
   "outputs": [],
   "source": [
    "plt.figure(figsize=(10,5))\n",
    "\n",
    "time_series_scatter_plot(swift20_spring, 'timestamp', 'swell.dirspread', 'dist_meridian', 'valid_wave_direction',\n",
    "        vmin=vmin, vmax=vmax, cmap=cmap, s=s)\n",
    "time_series_scatter_plot(swift21_spring, 'timestamp', 'swell.dirspread', 'dist_meridian', 'valid_wave_direction',\n",
    "        vmin=vmin, vmax=vmax, cmap=cmap, s=s)\n",
    "\n",
    "plt.colorbar(label='meridional distance to ice edge(m)')\n",
    "plt.grid()\n",
    "plt.ylabel('mean directional spread')\n",
    "nice_time_axis()\n",
    "\n",
    "plt.savefig('../figures/directional_spread_time_series.png', dpi=300)"
   ]
  },
  {
   "cell_type": "markdown",
   "id": "338ffe03",
   "metadata": {},
   "source": [
    "## Comparing sea ice and open water\n",
    "We now select a time period were we have data from both buoys and were the open water wave field looks relatively stable. Based on significant wave height of swell (Figure 4/notebook 04), the time period between Nov 1 and Nov 6 is a suitable choise."
   ]
  },
  {
   "cell_type": "code",
   "execution_count": null,
   "id": "5d4fe597",
   "metadata": {},
   "outputs": [],
   "source": [
    "time_range = [np.datetime64('2019-10-31 23:30'),\n",
    "              np.datetime64('2019-11-06 00:30')]\n",
    "\n",
    "swift_ice = swift21_spring[(swift21_spring['timestamp'] > time_range[0]) &\n",
    "                              (swift21_spring['timestamp'] < time_range[1]) ]\n",
    "swift_ow  = swift20_spring[(swift20_spring['timestamp'] > time_range[0]) &\n",
    "                              (swift20_spring['timestamp'] < time_range[1]) ]"
   ]
  },
  {
   "cell_type": "code",
   "execution_count": null,
   "id": "ec1c4e7f",
   "metadata": {},
   "outputs": [],
   "source": [
    "number_of_bins = 20\n",
    "direction_range = (-110, 60)\n",
    "spread_range =(20,80)\n",
    "\n",
    "ice_color = 'skyblue'\n",
    "ow_color  = 'gray'\n",
    "alpha = 0.5\n",
    "\n",
    "plt.figure(figsize=(10,4))\n",
    "\n",
    "plt.subplot(121)\n",
    "swift_ice['swell.meandirT'].hist(bins = number_of_bins, \n",
    "                                 range = direction_range,\n",
    "                                 density = True,\n",
    "                                 color = ice_color,\n",
    "                                 alpha = alpha, \n",
    "                                 grid = False,\n",
    "                                 label = 'ice')\n",
    "swift_ow['swell.meandirT'].hist(bins = number_of_bins, \n",
    "                                range = direction_range,\n",
    "                                density = True,\n",
    "                                color = ow_color,\n",
    "                                alpha = alpha, \n",
    "                                grid = False,\n",
    "                                label = 'open water')\n",
    "plt.xlabel('Swell direction (deg)')\n",
    "plt.yticks([])\n",
    "plt.legend(loc='upper right')\n",
    "\n",
    "plt.subplot(122)\n",
    "swift_ice['swell.dirspread'].hist(bins = number_of_bins, \n",
    "                                  range = spread_range,\n",
    "                                  density = True,\n",
    "                                  color = ice_color,\n",
    "                                  alpha = alpha, \n",
    "                                  grid = False,\n",
    "                                  label = 'ice')\n",
    "\n",
    "swift_ow['swell.dirspread'].hist(bins = number_of_bins, \n",
    "                                 range = spread_range,\n",
    "                                 density = True,\n",
    "                                 color = ow_color,\n",
    "                                 alpha = alpha, \n",
    "                                 grid = False,\n",
    "                                 label = 'open water')\n",
    "plt.xlabel('Directional spread (deg)')\n",
    "plt.yticks([])\n",
    "\n",
    "plt.tight_layout()\n",
    "plt.savefig('../figures/direction_histogram.png', dpi=300)"
   ]
  },
  {
   "cell_type": "markdown",
   "id": "0b7007ea",
   "metadata": {},
   "source": [
    "Above is the mean swell direction and directional spread for the selected time period. The histograms are normalized so that they have the same area."
   ]
  },
  {
   "cell_type": "markdown",
   "id": "cdd63f58",
   "metadata": {},
   "source": [
    "We also want polar plots of mean direction and spread per frequency bin, but we will do that using [SWIFT-codes](https://github.com/SASlabgroup/SWIFT-codes/blob/master/Waves/SWIFTdirectionalspectra.m). Therefore, we need to export the selected datapoints to matlab."
   ]
  },
  {
   "cell_type": "code",
   "execution_count": null,
   "id": "fd9caf74",
   "metadata": {
    "scrolled": false
   },
   "outputs": [],
   "source": [
    "save_swift_as_mat_file(swift_ow, '../data/SWIFT_openwater.mat')\n",
    "save_swift_as_mat_file(swift_ice, '../data/SWIFT_ice.mat')"
   ]
  }
 ],
 "metadata": {
  "kernelspec": {
   "display_name": "Python 3 (ipykernel)",
   "language": "python",
   "name": "python3"
  },
  "language_info": {
   "codemirror_mode": {
    "name": "ipython",
    "version": 3
   },
   "file_extension": ".py",
   "mimetype": "text/x-python",
   "name": "python",
   "nbconvert_exporter": "python",
   "pygments_lexer": "ipython3",
   "version": "3.10.10"
  }
 },
 "nbformat": 4,
 "nbformat_minor": 5
}
