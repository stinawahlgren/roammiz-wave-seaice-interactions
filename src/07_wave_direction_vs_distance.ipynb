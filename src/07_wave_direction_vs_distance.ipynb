{
 "cells": [
  {
   "cell_type": "markdown",
   "id": "5da04c75",
   "metadata": {},
   "source": [
    "# Change in swell wave direction with distance\n",
    "This notebook examines the measured direction of swell waves and connects it to the distance to the ice edge."
   ]
  },
  {
   "cell_type": "code",
   "execution_count": null,
   "id": "3b3de580",
   "metadata": {},
   "outputs": [],
   "source": [
    "import pandas as pd\n",
    "import numpy as np\n",
    "import matplotlib.pyplot as plt\n",
    "from matplotlib.dates import date2num, AutoDateLocator, ConciseDateFormatter\n",
    "from matplotlib.colors import LinearSegmentedColormap\n",
    "from matplotlib.ticker import AutoLocator\n",
    "from matplotlib import rc\n",
    "\n",
    "rc('font', size = 14)"
   ]
  },
  {
   "cell_type": "code",
   "execution_count": null,
   "id": "719b5325",
   "metadata": {},
   "outputs": [],
   "source": [
    "def truncate_colormap(cmap, minval=0.0, maxval=1.0, n=100):\n",
    "    '''\n",
    "    Source: https://stackoverflow.com/a/18926541\n",
    "    '''\n",
    "    if isinstance(cmap, str):\n",
    "        cmap = plt.get_cmap(cmap)\n",
    "    \n",
    "    new_cmap = LinearSegmentedColormap.from_list(\n",
    "                'trunc({n},{a:.2f},{b:.2f})'.format(n=cmap.name, a=minval, b=maxval),\n",
    "                cmap(np.linspace(minval, maxval, n)))\n",
    "    return new_cmap\n",
    "\n",
    "def plot_ice_edge(ax):\n",
    "    ylim = list(ax.get_ylim())\n",
    "    ax.plot([0,0], ylim, '--k')\n",
    "    ax.set_ylim(ylim)\n",
    "    return\n",
    "\n",
    "def boxplot(bin_centers, data):\n",
    "    # Convert to km\n",
    "    bin_centers__km = 1e-3 * bin_centers\n",
    "    \n",
    "    # Remove nan\n",
    "    non_nan_data = []\n",
    "    for d in data:\n",
    "        non_nan_data.append(d[~np.isnan(d)])\n",
    "       \n",
    "    # Make boxplot        \n",
    "    widths = (bin_centers__km[1]-bin_centers__km[0])\n",
    "    box_plot = plt.boxplot(non_nan_data, positions = bin_centers__km, widths = widths)\n",
    "\n",
    "    # Nicer median line\n",
    "    for median in box_plot['medians']:\n",
    "        median.set_color('black')\n",
    "        median.set_linewidth(2)\n",
    "        \n",
    "    # Make x-axis nice again\n",
    "    xlim = [bin_centers__km[0]-widths, bin_centers__km[-1]+widths]\n",
    "    plt.xlim(xlim)\n",
    "    plt.gca().xaxis.set_major_locator(AutoLocator())\n",
    "    xticks = plt.xticks()[0]\n",
    "    plt.xticks(ticks=xticks, labels=[str(round(tick)) for tick in xticks])\n",
    "    plt.xlim(xlim)\n",
    "       \n",
    "    return"
   ]
  },
  {
   "cell_type": "code",
   "execution_count": null,
   "id": "13af956f",
   "metadata": {},
   "outputs": [],
   "source": [
    "swift20_spring = pd.read_feather(\"../processed_data/swift20_spring.feather\")\n",
    "swift21_spring = pd.read_feather(\"../processed_data/swift21_spring.feather\")"
   ]
  },
  {
   "cell_type": "markdown",
   "id": "fa6b34f6",
   "metadata": {},
   "source": [
    "### Clean data\n",
    "When the wave activity is too low, the measured wave direction will just be noise. In order to remove those data points, we use a threshold on significant wave height."
   ]
  },
  {
   "cell_type": "code",
   "execution_count": null,
   "id": "9778319c",
   "metadata": {},
   "outputs": [],
   "source": [
    "swh_threshold = 0.1 # m\n",
    "\n",
    "swift = pd.concat([swift20_spring, swift21_spring], ignore_index=True)\n",
    "swift['valid_wave_direction'] = (swift['sigwaveheight'] >= swh_threshold) & ~np.isnan(swift['swell.meandirT'])"
   ]
  },
  {
   "cell_type": "markdown",
   "id": "6ec66f55",
   "metadata": {},
   "source": [
    "### Swell direction plots\n",
    "First, we plot the swell direction as a function of distance to the ice edge for the whole spring deployment. We will color code based on time stamp."
   ]
  },
  {
   "cell_type": "code",
   "execution_count": null,
   "id": "8206ac80",
   "metadata": {},
   "outputs": [],
   "source": [
    "fig = plt.figure(figsize=(10,6))\n",
    "\n",
    "# Create colormap\n",
    "vmin = 0.1\n",
    "vmax = 0.8\n",
    "cmap = truncate_colormap(plt.cm.inferno, vmin, vmax)\n",
    "\n",
    "# Make scatter plot\n",
    "scatter_data = swift[swift.valid_wave_direction]\n",
    "colors = date2num(scatter_data['timestamp'])\n",
    "sc = plt.scatter(scatter_data['dist_closest']*1e-3, scatter_data['swell.meandirT'], c=colors, s=40, cmap=cmap)\n",
    "ax = plt.gca()\n",
    "\n",
    "# Limits ans labels\n",
    "plt.ylabel('swell wave direction (deg)')\n",
    "plt.xlabel('shortest distance to ice edge (km)')\n",
    "plt.ylim([-105,25])\n",
    "plt.grid()\n",
    "\n",
    "# Add colorbar\n",
    "fig.subplots_adjust(right=0.9)\n",
    "cbar_ax = fig.add_axes([0.95, 0.1, 0.03, 0.8])\n",
    "cb = plt.colorbar(sc, cax = cbar_ax)\n",
    "loc = AutoDateLocator()\n",
    "cb.ax.yaxis.set_major_locator(loc)\n",
    "cb.ax.yaxis.set_major_formatter(ConciseDateFormatter(loc))\n",
    "\n",
    "# Mark ice edge\n",
    "plot_ice_edge(ax)\n",
    "ax.annotate('open water', xy = (0.32, 0.87), xycoords = 'axes fraction', color = 'k')\n",
    "ax.annotate('sea ice', xy = (0.5, 0.87), xycoords = 'axes fraction', color = 'k')\n",
    "\n",
    "plt.show()"
   ]
  },
  {
   "cell_type": "markdown",
   "id": "a13e8548",
   "metadata": {},
   "source": [
    "The cluster of points 2019-10-24 to 2019-10-27 is collected by SWIFT20 and associated with a rapid northward movement of the ice edge and two wave events. We therefore believe that this cluster belongs to another wave field, not representative for the rest of the deployment. Apart from this cluster, a trend is seen, where the wave direction tends to be more towards the south, and thus more perpendicular to the ice edge, with increasing distance traveled in sea ice. \n",
    "\n",
    "In order to examine this further, we bin the data after 2019-10-27 based on distance to the ice edge, and study the wave direction and directional spread, as well as co-located sea ice concentration."
   ]
  },
  {
   "cell_type": "code",
   "execution_count": null,
   "id": "a3b1ba20",
   "metadata": {},
   "outputs": [],
   "source": [
    "min_timestamp = np.datetime64('2019-10-27 23:30')\n",
    "number_of_bins = 6\n",
    "\n",
    "binned_data = {'edges': np.linspace(-1.5e5, 1.5e5, number_of_bins+1),\n",
    "               'count'    : [],\n",
    "               'wavedir'  : [],\n",
    "               'spread'   : [],\n",
    "               'sic'      : []\n",
    "              }\n",
    "binned_data['centers'] = 0.5 * (binned_data['edges'][:-1] + binned_data['edges'][1:])\n",
    "\n",
    "swift_used = swift[(swift['timestamp']>min_timestamp) & swift.valid_wave_direction]\n",
    "bin_index = np.digitize(swift_used['dist_closest'], binned_data['edges'])\n",
    "for i in range(1, number_of_bins+1):\n",
    "    index = (bin_index == i)        \n",
    "    binned_data['count'].append(sum(index))\n",
    "    binned_data['wavedir'].append(swift_used.loc[index]['swell.meandirT'].values)\n",
    "    binned_data['spread'].append(swift_used.loc[index]['swell.dirspread'].values)\n",
    "    binned_data['sic'].append(swift_used.loc[index]['sic'].values)"
   ]
  },
  {
   "cell_type": "markdown",
   "id": "4d72d9f0",
   "metadata": {},
   "source": [
    "### Box-and-whisker plots"
   ]
  },
  {
   "cell_type": "code",
   "execution_count": null,
   "id": "f8ad5bc1",
   "metadata": {},
   "outputs": [],
   "source": [
    "fig, axes = plt.subplots(nrows=2, ncols=2,\n",
    "                         gridspec_kw={'wspace': 0.3,\n",
    "                                      'hspace': 0.1},\n",
    "                         sharex = True,\n",
    "                         figsize=(10,6))\n",
    "\n",
    "# Wave direction\n",
    "plt.sca(axes[0,0])\n",
    "boxplot(binned_data['centers'], binned_data['wavedir'])\n",
    "plt.grid()\n",
    "plot_ice_edge(axes[0,0])\n",
    "axes[0,0].set_ylabel('swell wave direction (deg)')\n",
    "\n",
    "# Spread\n",
    "plt.sca(axes[0,1])\n",
    "boxplot(binned_data['centers'], binned_data['spread'])\n",
    "plt.grid()\n",
    "plt.ylim([0,82])\n",
    "plot_ice_edge(axes[0,1])\n",
    "axes[0,1].set_ylabel('directional spread (deg)')\n",
    "\n",
    "# Sea ice concentration\n",
    "plt.sca(axes[1,0])\n",
    "boxplot(binned_data['centers'], binned_data['sic'])\n",
    "plot_ice_edge(axes[1,0])\n",
    "plt.grid()\n",
    "axes[1,0].set_xlabel('shortest distance to edge (km)')\n",
    "axes[1,0].set_ylabel('sea ice concentration (%)')\n",
    "\n",
    "# Bin count\n",
    "axes[1,1].hist(binned_data['centers']*1e-3, \n",
    "               bins    = len(binned_data['count']), \n",
    "               weights = binned_data['count'], \n",
    "               range   = (binned_data['edges'][0]*1e-3,binned_data['edges'][-1]*1e-3),\n",
    "               alpha   = 0.5)\n",
    "axes[1,1].set_xlim([-150,150])\n",
    "plot_ice_edge(axes[1,1])\n",
    "axes[1,1].grid()\n",
    "axes[1,1].set_xlabel('shortest distance to edge (km)')\n",
    "axes[1,1].set_ylabel('count')\n",
    "\n",
    "plt.show()"
   ]
  }
 ],
 "metadata": {
  "kernelspec": {
   "display_name": "Python 3 (ipykernel)",
   "language": "python",
   "name": "python3"
  },
  "language_info": {
   "codemirror_mode": {
    "name": "ipython",
    "version": 3
   },
   "file_extension": ".py",
   "mimetype": "text/x-python",
   "name": "python",
   "nbconvert_exporter": "python",
   "pygments_lexer": "ipython3",
   "version": "3.10.10"
  }
 },
 "nbformat": 4,
 "nbformat_minor": 5
}
