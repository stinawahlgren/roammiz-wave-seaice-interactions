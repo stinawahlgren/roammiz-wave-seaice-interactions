{
 "cells": [
  {
   "cell_type": "markdown",
   "id": "f35dd56c",
   "metadata": {},
   "source": [
    "# Prepare SWIFT data\n",
    "This notebook combines SWIFT buoy data with data from other sources. SWIFT buoy data has been preprocessed using [SWIFT-codes](https://github.com/SASlabgroup/SWIFT-codes) and converted to python-friendly format using `read_swift` in [swifttools.py](https://github.com/SASlabgroup/SWIFT-codes/blob/master/Python/swifttools.py) beforehand.\n",
    "\n",
    "This notebook will add the following data:\n",
    "\n",
    "1. co-located sea ice concentration\n",
    "2. energy weighted mean direction of the swell band\n",
    "3. distance to the ice edge (shortest and in swell wave direction)\n",
    "4. ice codes from manual classification of SWIFT onboard imagery"
   ]
  },
  {
   "cell_type": "code",
   "execution_count": null,
   "id": "ee04f981",
   "metadata": {},
   "outputs": [],
   "source": [
    "import pandas as pd\n",
    "import xarray as xr\n",
    "import os\n",
    "\n",
    "import colocation as co\n",
    "import icegeometry as ig\n",
    "import waves"
   ]
  },
  {
   "cell_type": "code",
   "execution_count": null,
   "id": "6b6a9025",
   "metadata": {},
   "outputs": [],
   "source": [
    "deployment = 'winter'\n",
    "swift_data_folder = # fill in folder\n",
    "save_folder = '../processed_data/'\n",
    "\n",
    "if deployment == 'winter':\n",
    "    swift20  = pd.read_feather(os.path.join(swift_data_folder, 'swift20_winter.feather'))\n",
    "    swift21  = pd.read_feather(os.path.join(swift_data_folder, 'swift21_winter.feather'))  \n",
    "    sic      = xr.open_dataset('../data/sic_winter.nc')    \n",
    "    ice_edge = pd.read_feather('../processed_data/ice_edge_winter_sigma1.feather')\n",
    "    region   = pd.read_csv('../processed_data/ice_edge_winter_sigma1_region.csv')    \n",
    "    icetype_swift20 = None\n",
    "    icetype_swift21 = '../data/icecode_swift21_winter.csv'\n",
    "    \n",
    "elif deployment == 'spring':\n",
    "    swift20  = pd.read_feather(os.path.join(swift_data_folder, 'swift20_spring.feather'))\n",
    "    swift21  = pd.read_feather(os.path.join(swift_data_folder, 'swift21_spring.feather'))   \n",
    "    sic      = xr.open_dataset('../data/sic_spring.nc')    \n",
    "    ice_edge = pd.read_feather('../processed_data/ice_edge_spring_sigma1.feather')\n",
    "    region   = pd.read_csv('../processed_data/ice_edge_spring_sigma1_region.csv')    \n",
    "    icetype_swift20 = '../data/icecode_swift20_spring.csv'\n",
    "    icetype_swift21 = '../data/icecode_swift21_spring.csv'\n",
    "    \n",
    "swift_deployments = [swift20, swift21]\n",
    "icetype_files = [icetype_swift20, icetype_swift21]\n",
    "labels = ['swift20', 'swift21']"
   ]
  },
  {
   "cell_type": "markdown",
   "id": "2d4265f3",
   "metadata": {},
   "source": [
    "## Co-locate with sea ice concentration"
   ]
  },
  {
   "cell_type": "code",
   "execution_count": null,
   "id": "08720440",
   "metadata": {},
   "outputs": [],
   "source": [
    "for swift in swift_deployments:\n",
    "    # Convert lon-lat to polar stereographic xy-coordinates \n",
    "    # (since sea ice data is in polare stereographic coordinates)\n",
    "    # and add to swift df\n",
    "    co.add_xy_to_swift(swift, sic)\n",
    "\n",
    "    # Colocate ice conecentration with swift location\n",
    "    co.swift_collocate_sic(swift, sic, method = 'nearest', column = 'sic')"
   ]
  },
  {
   "cell_type": "markdown",
   "id": "5dfd08cd",
   "metadata": {},
   "source": [
    "## Add wave band properties"
   ]
  },
  {
   "cell_type": "code",
   "execution_count": null,
   "id": "3876e739",
   "metadata": {},
   "outputs": [],
   "source": [
    "f_start  = 0.05 # Hz\n",
    "f_stop   = 0.13 # Hz\n",
    "bandname = 'swell'\n",
    "\n",
    "for swift in swift_deployments:\n",
    "    waves.swift_add_waveband_properties(swift, f_start = f_start, f_stop = f_stop, bandname = 'swell')"
   ]
  },
  {
   "cell_type": "markdown",
   "id": "b08c32ff",
   "metadata": {},
   "source": [
    "## Get distance to the sea ice edge"
   ]
  },
  {
   "cell_type": "code",
   "execution_count": null,
   "id": "d97f42f4",
   "metadata": {},
   "outputs": [],
   "source": [
    "for swift in swift_deployments:\n",
    "    # Closest distance to edge\n",
    "    ig.add_distance_to_edge(swift, ice_edge, region, \"closest\", \"closest\")\n",
    "\n",
    "    # Distance to edge in wave direction\n",
    "    ig.add_distance_to_edge(swift, ice_edge, region, \"swell.meandirT\", \"wavedir\")"
   ]
  },
  {
   "cell_type": "markdown",
   "id": "076bb308",
   "metadata": {},
   "source": [
    "## Add ice codes"
   ]
  },
  {
   "cell_type": "code",
   "execution_count": null,
   "id": "7f52993e",
   "metadata": {},
   "outputs": [],
   "source": [
    "for (swift, icetype) in zip(swift_deployments, icetype_files):\n",
    "    co.swift_add_icetype(swift, icetype)"
   ]
  },
  {
   "cell_type": "markdown",
   "id": "a7b1df9d",
   "metadata": {},
   "source": [
    "## Save SWIFT"
   ]
  },
  {
   "cell_type": "code",
   "execution_count": null,
   "id": "0556380f",
   "metadata": {},
   "outputs": [],
   "source": [
    "for (swift, label) in zip(swift_deployments, labels):\n",
    "    path = os.path.join(save_folder, label + '_' + deployment + '.feather')\n",
    "    swift.to_feather(path)"
   ]
  }
 ],
 "metadata": {
  "kernelspec": {
   "display_name": "Python 3 (ipykernel)",
   "language": "python",
   "name": "python3"
  },
  "language_info": {
   "codemirror_mode": {
    "name": "ipython",
    "version": 3
   },
   "file_extension": ".py",
   "mimetype": "text/x-python",
   "name": "python",
   "nbconvert_exporter": "python",
   "pygments_lexer": "ipython3",
   "version": "3.10.10"
  }
 },
 "nbformat": 4,
 "nbformat_minor": 5
}
