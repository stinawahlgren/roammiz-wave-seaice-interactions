{
 "cells": [
  {
   "cell_type": "markdown",
   "id": "c05a7e09",
   "metadata": {},
   "source": [
    "# Defining the ice edge\n",
    "The ice edge is derived from sea ice concentration in the following way:\n",
    "\n",
    "1. For each time instance a binary map is created, with ones where the sea ice concentration is above a threshold value and zeros otherwise\n",
    "\n",
    "2. The binary map is smoothed with a 2D gaussian filter\n",
    "\n",
    "3. The ice edge is defined as the (longest) 0.5 contour line of the smoothed map"
   ]
  },
  {
   "cell_type": "code",
   "execution_count": null,
   "id": "70e876ec",
   "metadata": {},
   "outputs": [],
   "source": [
    "import xarray as xr\n",
    "import pandas as pd\n",
    "import numpy as np\n",
    "import os\n",
    "from tqdm import tqdm\n",
    "import matplotlib.pyplot as plt\n",
    "import cartopy.crs as ccrs\n",
    "\n",
    "import icegeometry as ig\n",
    "import misc"
   ]
  },
  {
   "cell_type": "code",
   "execution_count": null,
   "id": "5871b7f0",
   "metadata": {},
   "outputs": [],
   "source": [
    "deployment = 'winter'\n",
    "\n",
    "# Parameters\n",
    "sigma = 1\n",
    "sic_threshold = 15\n",
    "interpolation = None # For example '1H' gor hourly interpolation. Set to None to avoid interpolation\n",
    "\n",
    "save_edge = True\n",
    "save_path = os.path.join('../processed_data', 'ice_edge_' + deployment + '_sigma' + str(sigma))\n",
    "\n",
    "if deployment == 'spring':\n",
    "    sic_file = '../data/sic_spring.nc'\n",
    "    \n",
    "elif deployment == 'winter':\n",
    "    sic_file = '../data/sic_winter.nc'"
   ]
  },
  {
   "cell_type": "code",
   "execution_count": null,
   "id": "781c051b",
   "metadata": {},
   "outputs": [],
   "source": [
    "sic = xr.open_dataset(sic_file)"
   ]
  },
  {
   "cell_type": "markdown",
   "id": "fc50e631",
   "metadata": {},
   "source": [
    "## Create smoothed masks"
   ]
  },
  {
   "cell_type": "code",
   "execution_count": null,
   "id": "a8c93e9c",
   "metadata": {},
   "outputs": [],
   "source": [
    "smoothed_mask = np.zeros(sic.z.values.shape)\n",
    "for (i,da) in enumerate(sic.z): # Loop over first dimension (time)\n",
    "    sic_above_limit = 1.0*(da.values >= sic_threshold) # Multiplication with 1.0 converts boolean to float\n",
    "    smoothed_mask[i] = misc.nan_gaussian_filter(sic_above_limit, sigma)\n",
    "\n",
    "# Store in data array    \n",
    "sic_smoothed_mask = sic.z.copy()\n",
    "sic_smoothed_mask.values = smoothed_mask\n",
    "\n",
    "# Interpolate \n",
    "if interpolation is not None:\n",
    "    sic_smoothed_mask = sic_smoothed_mask.resample(time = interpolation).interpolate(\"linear\")"
   ]
  },
  {
   "cell_type": "markdown",
   "id": "656ab637",
   "metadata": {},
   "source": [
    "## Find the ice edge"
   ]
  },
  {
   "cell_type": "code",
   "execution_count": null,
   "id": "4e9f030e",
   "metadata": {},
   "outputs": [],
   "source": [
    "edge_x = []\n",
    "edge_y = []\n",
    "\n",
    "for da in tqdm(sic_smoothed_mask):\n",
    "    edge = ig.get_contour_path(da.x, da.y, da, 0.5)\n",
    "    edge_x.append(edge[0,:])\n",
    "    edge_y.append(edge[1,:])"
   ]
  },
  {
   "cell_type": "code",
   "execution_count": null,
   "id": "ffb3284f",
   "metadata": {},
   "outputs": [],
   "source": [
    "# Convert to longitude/latitude\n",
    "edge_lon = []\n",
    "edge_lat = []\n",
    "\n",
    "for (x,y) in zip(edge_x, edge_y):\n",
    "    x_da = xr.DataArray(x, dims = 'edge')\n",
    "    y_da = xr.DataArray(y, dims = 'edge')\n",
    "    lon = sic.Longitudes.interp(x = x_da, y = y_da, method ='nearest').values\n",
    "    lat = sic.Latitudes.interp(x = x_da, y = y_da, method ='nearest').values\n",
    "    edge_lon.append(np.array(lon))\n",
    "    edge_lat.append(np.array(lat))"
   ]
  },
  {
   "cell_type": "markdown",
   "id": "77bd3b8a",
   "metadata": {},
   "source": [
    "## Save the derived ice edges"
   ]
  },
  {
   "cell_type": "code",
   "execution_count": null,
   "id": "f9968895",
   "metadata": {},
   "outputs": [],
   "source": [
    "edge_df = pd.DataFrame(data = {'time': sic_smoothed_mask.time.values,\n",
    "                               'x': edge_x,\n",
    "                               'y': edge_y,\n",
    "                               'lon': edge_lon,\n",
    "                               'lat': edge_lat})"
   ]
  },
  {
   "cell_type": "markdown",
   "id": "5ddfdde8",
   "metadata": {},
   "source": [
    "This is how the derived ice edges look like"
   ]
  },
  {
   "cell_type": "code",
   "execution_count": null,
   "id": "aad213d7",
   "metadata": {},
   "outputs": [],
   "source": [
    "plt.figure(figsize=(8,6))\n",
    "ax = plt.axes(projection = ccrs.SouthPolarStereo())\n",
    "\n",
    "for (i, edge) in edge_df.iterrows():\n",
    "    ax.plot(edge.lon, edge.lat,'k', alpha = 0.2, transform = ccrs.PlateCarree())\n",
    "    \n",
    "ax.gridlines(draw_labels = True, y_inline = False)\n",
    "plt.show()"
   ]
  },
  {
   "cell_type": "code",
   "execution_count": null,
   "id": "7606e838",
   "metadata": {},
   "outputs": [],
   "source": [
    "if save_edge:\n",
    "    edge_df.to_feather(save_path  + '.feather')\n",
    "    print('Saved edge as ' + save_path  + '.feather')\n",
    "    \n",
    "    region = pd.DataFrame({'x_min': sic.x.values[0],\n",
    "                           'x_max': sic.x.values[-1], \n",
    "                           'y_min': sic.y.values[0], \n",
    "                           'y_max': sic.y.values[-1]},\n",
    "                          index = [0])\n",
    "    region.to_csv(save_path + '_region.csv', index = False)"
   ]
  }
 ],
 "metadata": {
  "kernelspec": {
   "display_name": "Python 3 (ipykernel)",
   "language": "python",
   "name": "python3"
  },
  "language_info": {
   "codemirror_mode": {
    "name": "ipython",
    "version": 3
   },
   "file_extension": ".py",
   "mimetype": "text/x-python",
   "name": "python",
   "nbconvert_exporter": "python",
   "pygments_lexer": "ipython3",
   "version": "3.10.10"
  }
 },
 "nbformat": 4,
 "nbformat_minor": 5
}
