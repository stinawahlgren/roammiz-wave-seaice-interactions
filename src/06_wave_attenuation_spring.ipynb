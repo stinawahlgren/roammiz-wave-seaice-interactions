{
 "cells": [
  {
   "cell_type": "markdown",
   "id": "adaf4243",
   "metadata": {},
   "source": [
    "# Spectral wave attenuation for the spring deployment\n",
    "In this notebook, we derive frequency dependent wave attenuation using data from the spring deployment. We will only use the second part of the deployment, where SWIFT20 was in open water. And the wave activity generally was high enough to measure (significant wave height \\> 0.1 m) at the location of SWIFT21. We derive the attenuation assuming an exponential decay. For each pair of data points, the attenuation coefficient $\\alpha$ is computed with\n",
    "$$\n",
    "\\alpha(f) = \\frac{\\ln(E_\\text{SWIFT20}(f) - E_\\text{SWIFT21}(f)}{d}\n",
    "$$\n",
    "where $f$ is the frequency, $E$ the power spectral density and $d$ is the distance from the ice edge to SWIFT21 in the direction of swell waves as measured by SWIFT21."
   ]
  },
  {
   "cell_type": "code",
   "execution_count": null,
   "id": "2789eebe",
   "metadata": {},
   "outputs": [],
   "source": [
    "import pandas as pd\n",
    "import matplotlib.pyplot as plt\n",
    "from matplotlib import rc\n",
    "\n",
    "import waves\n",
    "import attenuation as at\n",
    " \n",
    "rc('font', size = 14)"
   ]
  },
  {
   "cell_type": "code",
   "execution_count": null,
   "id": "fc4844ce",
   "metadata": {},
   "outputs": [],
   "source": [
    "swift20_file = \"../processed_data/swift20_spring.feather\"\n",
    "swift21_file = \"../processed_data/swift21_spring.feather\"\n",
    "\n",
    "frequency_range = [0.05, 0.13] # Hz\n",
    "swh_threshold = 0.1 # Minimum significant wave height (m)"
   ]
  },
  {
   "cell_type": "markdown",
   "id": "d658802e",
   "metadata": {},
   "source": [
    "### Get wave properties from both buoys:\n",
    "We will remove data points where the significant wave height was too low (< 0.1 m) and select the desired time range."
   ]
  },
  {
   "cell_type": "code",
   "execution_count": null,
   "id": "bd5aa40b",
   "metadata": {},
   "outputs": [],
   "source": [
    "swift20 = pd.read_feather(swift20_file)\n",
    "swift21 = pd.read_feather(swift21_file)"
   ]
  },
  {
   "cell_type": "code",
   "execution_count": null,
   "id": "d49f8717",
   "metadata": {},
   "outputs": [],
   "source": [
    "tmin = pd.Timestamp('2019-10-31T23:30')\n",
    "tmax = min(swift20.timestamp[len(swift20)-1], swift21.timestamp[len(swift21)-1])\n",
    "\n",
    "swift20_pruned = swift20[(swift20.timestamp >= tmin) & (swift20.timestamp <= tmax)].reset_index()\n",
    "swift21_pruned = swift21[(swift21.timestamp >= tmin) & (swift21.timestamp <= tmax)].reset_index()\n",
    "\n",
    "# 3 data points are missing from swift21. The following one-line hack will introduce NaN rows there, so\n",
    "# that swift20_pruned and swift21_pruned have matching rows \n",
    "swift21_pruned = swift21_pruned.set_index('timestamp').reindex(swift20_pruned.timestamp.values).reset_index()\n",
    "\n",
    "# Remove data with no measureable wave activity\n",
    "ok_swh = (swift20_pruned.sigwaveheight > swh_threshold) & (swift21_pruned.sigwaveheight > swh_threshold)\n",
    "swift20_pruned = swift20_pruned[ok_swh].reset_index()\n",
    "swift21_pruned = swift21_pruned[ok_swh].reset_index()   "
   ]
  },
  {
   "cell_type": "markdown",
   "id": "3a757e71",
   "metadata": {},
   "source": [
    "### Compute pointwise attenuation"
   ]
  },
  {
   "cell_type": "code",
   "execution_count": null,
   "id": "f3004e9c",
   "metadata": {},
   "outputs": [],
   "source": [
    "distance = swift21_pruned['dist_wavedir']\n",
    "swift20_spectra = waves.get_wavespectra(swift20_pruned)\n",
    "swift21_spectra = waves.get_wavespectra(swift21_pruned)\n",
    "\n",
    "ds = at.get_pointwise_attenuation(swift21_spectra, swift20_spectra, frequency_range, distance)\n",
    "ds.alpha.plot()"
   ]
  },
  {
   "cell_type": "markdown",
   "id": "aec4b6a8",
   "metadata": {},
   "source": [
    "### Fit to power law\n",
    "We now fit the pointwise attenuation to a power law\n",
    "$$\n",
    "\\alpha(f) = a \\cdot f^b\n",
    "$$"
   ]
  },
  {
   "cell_type": "code",
   "execution_count": null,
   "id": "396639f3",
   "metadata": {},
   "outputs": [],
   "source": [
    "# Initial parameter guess\n",
    "a0 = 1\n",
    "b0 = 3\n",
    "\n",
    "popt, pcov = at.fit_alpha(ds.alpha, a0,b0)\n",
    "\n",
    "print(\"Power law fit: a = %.2f, b = %.2f\" % (popt[0], popt[1]))"
   ]
  },
  {
   "cell_type": "markdown",
   "id": "28af429b",
   "metadata": {},
   "source": [
    "## Box-and-whisker plot"
   ]
  },
  {
   "cell_type": "code",
   "execution_count": null,
   "id": "70efc580",
   "metadata": {},
   "outputs": [],
   "source": [
    "at.alpha_boxplot(ds.alpha)\n",
    "at.plot_fit(popt, label=r'$af^b$')\n",
    "plt.legend(loc = 'lower right')\n",
    "plt.grid()"
   ]
  }
 ],
 "metadata": {
  "kernelspec": {
   "display_name": "Python 3 (ipykernel)",
   "language": "python",
   "name": "python3"
  },
  "language_info": {
   "codemirror_mode": {
    "name": "ipython",
    "version": 3
   },
   "file_extension": ".py",
   "mimetype": "text/x-python",
   "name": "python",
   "nbconvert_exporter": "python",
   "pygments_lexer": "ipython3",
   "version": "3.10.10"
  }
 },
 "nbformat": 4,
 "nbformat_minor": 5
}
