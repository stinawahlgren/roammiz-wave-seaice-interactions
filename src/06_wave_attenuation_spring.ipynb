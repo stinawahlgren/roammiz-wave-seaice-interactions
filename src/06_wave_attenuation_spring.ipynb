{
 "cells": [
  {
   "cell_type": "markdown",
   "id": "adaf4243",
   "metadata": {},
   "source": [
    "# Spectral wave attenuation for the spring deployment\n",
    "In this notebook, we derive frequency dependent wave attenuation using data from the spring deployment. We will only use the second part of the deployment, where SWIFT20 was in open water. And the wave activity generally was high enough to measure (significant wave height \\> 0.1 m) at the location of SWIFT21. We derive the attenuation assuming an exponential decay. For each pair of data points, the attenuation coefficient $\\alpha$ is computed with\n",
    "$$\n",
    "\\alpha(f) = \\frac{\\ln(E_\\text{SWIFT20}(f) - E_\\text{SWIFT21}(f)}{d}\n",
    "$$\n",
    "where $f$ is the frequency, $E$ the power spectral density and $d$ is the distance from the ice edge to SWIFT21 in the direction of swell waves as measured by SWIFT21."
   ]
  },
  {
   "cell_type": "code",
   "execution_count": null,
   "id": "2789eebe",
   "metadata": {},
   "outputs": [],
   "source": [
    "import pandas as pd\n",
    "import matplotlib.pyplot as plt\n",
    "from matplotlib import rc\n",
    "\n",
    "import waves\n",
    "import attenuation as at\n",
    " \n",
    "rc('font', size = 14)\n",
    "plt.rcParams['mathtext.fontset'] = \"stix\" # Nicer latex labels"
   ]
  },
  {
   "cell_type": "code",
   "execution_count": null,
   "id": "fc4844ce",
   "metadata": {},
   "outputs": [],
   "source": [
    "swift20_file = \"../processed_data/swift20_spring.feather\"\n",
    "swift21_file = \"../processed_data/swift21_spring.feather\"\n",
    "\n",
    "frequency_range = [0.05, 0.13] # Hz\n",
    "swh_threshold = 0.1 # Minimum significant wave height (m)"
   ]
  },
  {
   "cell_type": "markdown",
   "id": "d658802e",
   "metadata": {},
   "source": [
    "### Get wave properties from both buoys:\n",
    "We will remove data points where the significant wave height was too low (< 0.1 m) and select the desired time range."
   ]
  },
  {
   "cell_type": "code",
   "execution_count": null,
   "id": "bd5aa40b",
   "metadata": {},
   "outputs": [],
   "source": [
    "swift20 = pd.read_feather(swift20_file)\n",
    "swift21 = pd.read_feather(swift21_file)"
   ]
  },
  {
   "cell_type": "code",
   "execution_count": null,
   "id": "d49f8717",
   "metadata": {},
   "outputs": [],
   "source": [
    "tmin = pd.Timestamp('2019-10-31T23:30')\n",
    "tmax = min(swift20.timestamp[len(swift20)-1], swift21.timestamp[len(swift21)-1])\n",
    "\n",
    "swift20_pruned = swift20[(swift20.timestamp >= tmin) & (swift20.timestamp <= tmax)].reset_index()\n",
    "swift21_pruned = swift21[(swift21.timestamp >= tmin) & (swift21.timestamp <= tmax)].reset_index()\n",
    "\n",
    "# 3 data points are missing from swift21. The following one-line hack will introduce NaN rows there, so\n",
    "# that swift20_pruned and swift21_pruned have matching rows \n",
    "swift21_pruned = swift21_pruned.set_index('timestamp').reindex(swift20_pruned.timestamp.values).reset_index()\n",
    "\n",
    "# Remove data with no measureable wave activity\n",
    "ok_swh = (swift20_pruned.sigwaveheight > swh_threshold) & (swift21_pruned.sigwaveheight > swh_threshold)\n",
    "\n",
    "# Remove outliers (one wave direction outlier that result in a very large distance to edge)\n",
    "distance_threshold = 2.5e5 #m\n",
    "ok_dist = (swift20_pruned.dist_wavedir < distance_threshold) & (swift21_pruned.dist_wavedir < distance_threshold)\n",
    "\n",
    "swift20_pruned = swift20_pruned[ok_swh & ok_dist].reset_index()\n",
    "swift21_pruned = swift21_pruned[ok_swh & ok_dist].reset_index()   \n",
    "\n",
    "print(f\"Used time range: {tmin} - {tmax}\")"
   ]
  },
  {
   "cell_type": "markdown",
   "id": "3a757e71",
   "metadata": {},
   "source": [
    "### Compute pointwise attenuation"
   ]
  },
  {
   "cell_type": "code",
   "execution_count": null,
   "id": "f3004e9c",
   "metadata": {},
   "outputs": [],
   "source": [
    "distance = swift21_pruned['dist_wavedir']\n",
    "swift20_spectra = waves.get_wavespectra(swift20_pruned)\n",
    "swift21_spectra = waves.get_wavespectra(swift21_pruned)\n",
    "\n",
    "ds = at.get_pointwise_attenuation(swift21_spectra, swift20_spectra, frequency_range, distance)\n",
    "ds.alpha.plot()"
   ]
  },
  {
   "cell_type": "markdown",
   "id": "aec4b6a8",
   "metadata": {},
   "source": [
    "### Fit to power law\n",
    "We now fit the pointwise attenuation to a power law\n",
    "$$\n",
    "\\alpha(f) = a \\cdot f^b\n",
    "$$"
   ]
  },
  {
   "cell_type": "code",
   "execution_count": null,
   "id": "396639f3",
   "metadata": {},
   "outputs": [],
   "source": [
    "# Initial parameter guess\n",
    "a0 = 1\n",
    "b0 = 3\n",
    "\n",
    "fits = {'general':     {'options': {},\n",
    "                        'plot_kwargs': {'label': r'$af^b$'}},\n",
    "        'cubic':       {'options': {'b': 3},\n",
    "                        'plot_kwargs': {'label': r'$af^3$',\n",
    "                                        'linestyle': 'dashed'}},\n",
    "        'linear':      {'options': {'b':1},\n",
    "                        'plot_kwargs': {'label': r'$af$',\n",
    "                                        'linestyle': 'dotted',\n",
    "                                        'color': 'black'}}\n",
    "       }\n",
    "\n",
    "# Fit to power law\n",
    "for key in fits.keys():\n",
    "    (a,b,rmse) = at.fit_alpha(ds.alpha, a0, b0, **fits[key]['options'])\n",
    "    fits[key]['a'] = a\n",
    "    fits[key]['b'] = b\n",
    "    fits[key]['rmse'] = rmse\n",
    "\n",
    "# Print result  \n",
    "for key in fits.keys():\n",
    "    print(f\"{key}:\\t a = {fits[key]['a']:.5f} \\t b = {fits[key]['b']:.5f} \\t RMSE = {fits[key]['rmse']:.4e}\")"
   ]
  },
  {
   "cell_type": "markdown",
   "id": "28af429b",
   "metadata": {},
   "source": [
    "## Box-and-whisker plot"
   ]
  },
  {
   "cell_type": "code",
   "execution_count": null,
   "id": "70efc580",
   "metadata": {},
   "outputs": [],
   "source": [
    "plt.figure(figsize=(6,4))\n",
    "at.alpha_boxplot(ds.alpha)\n",
    "for key in fits.keys():\n",
    "    at.plot_fit(fits[key]['a'], fits[key]['b'], **fits[key]['plot_kwargs'])\n",
    "plt.legend(bbox_to_anchor = (0.35,1))\n",
    "plt.grid()\n",
    "plt.savefig('../figures/spring_atteunation.png', dpi=300, bbox_inches='tight')"
   ]
  },
  {
   "cell_type": "code",
   "execution_count": null,
   "id": "e4758505",
   "metadata": {},
   "outputs": [],
   "source": [
    "plt.figure(figsize=(6,2))\n",
    "plt.hist(ds.distance.values*1e-3, alpha=0.5)\n",
    "plt.xlabel('distance to ice edge (km)')\n",
    "plt.ylabel('count')\n",
    "plt.savefig('../figures/spring_atteunation_distance.png', dpi=300, bbox_inches='tight')"
   ]
  }
 ],
 "metadata": {
  "kernelspec": {
   "display_name": "Python 3 (ipykernel)",
   "language": "python",
   "name": "python3"
  },
  "language_info": {
   "codemirror_mode": {
    "name": "ipython",
    "version": 3
   },
   "file_extension": ".py",
   "mimetype": "text/x-python",
   "name": "python",
   "nbconvert_exporter": "python",
   "pygments_lexer": "ipython3",
   "version": "3.10.10"
  }
 },
 "nbformat": 4,
 "nbformat_minor": 5
}
