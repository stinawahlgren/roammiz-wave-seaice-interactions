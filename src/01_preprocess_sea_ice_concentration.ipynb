{
 "cells": [
  {
   "cell_type": "markdown",
   "id": "e8377e96",
   "metadata": {},
   "source": [
    "# Preprocess AMSR sea ice concentration\n",
    "Remote sensing sea ice concentration can be downloaded from Bremen University [here](https://seaice.uni-bremen.de/databrowser/#p=sic). The data is stored in netCDF-files, one for each day. In this notebook we select the desired region and combine those to a single data set. The daily netCDF files need to be downloaded before running this notebook.\n",
    "\n",
    "In addition, we also need a grid file to convert from polar stereographic coordinates to longitude/latitude. The data-folder in this repository contains a grid file for the Antarctic 6.25 km resolution grid. Grid files can also be downloaded from [meereisportal](https://data.meereisportal.de/data/iup/hdf/grid)."
   ]
  },
  {
   "cell_type": "code",
   "execution_count": null,
   "id": "1411f34d",
   "metadata": {},
   "outputs": [],
   "source": [
    "import xarray as xr\n",
    "import pandas as pd\n",
    "import glob\n",
    "import os\n",
    "import matplotlib.pyplot as plt\n",
    "import cmocean.cm as cmo\n",
    "import cartopy.crs as ccrs\n",
    "\n",
    "import misc"
   ]
  },
  {
   "cell_type": "code",
   "execution_count": null,
   "id": "9aa2de6a",
   "metadata": {},
   "outputs": [],
   "source": [
    "def plot_sic(sic, extent = None, projection = ccrs.SouthPolarStereo(), **kwargs):\n",
    "    \"\"\"\n",
    "    Plots AMSR sea ice concentration map\n",
    "    \n",
    "    Parameters:\n",
    "        sic    : xarray.Dataset (no time dimesion) created by preprocess_sea_ice_concentration.ipynb\n",
    "        extent : Optional extent of map, given in [lon_min, lon_max, lat_min, lat_max] \n",
    "        \n",
    "        **kwargs is passed to plt.pcolormesh\n",
    "    \"\"\"    \n",
    "    ax = plt.axes(projection=projection)\n",
    "\n",
    "    # Plot sea ice concentration\n",
    "    cs = ax.pcolormesh(sic.Longitudes, sic.Latitudes, sic.z,\n",
    "                       transform = ccrs.PlateCarree(), # data projection\n",
    "                       cmap = cmo.ice,\n",
    "                      )\n",
    "    \n",
    "    if extent is not None:\n",
    "        ax.set_extent(extent)\n",
    "    \n",
    "    # Adjust grid lines\n",
    "    gl = ax.gridlines(draw_labels = True, \n",
    "                      y_inline = False, # force y-axis ticks to be outside the plot\n",
    "                     )\n",
    "    gl.bottom_labels = True\n",
    "    gl.top_labels    = False\n",
    "    gl.left_labels   = True                  \n",
    "    gl.right_labels  = False\n",
    "\n",
    "    # colorbar\n",
    "    plt.colorbar(cs, label = 'sea ice concentration (%)')\n",
    "    \n",
    "    plt.show()\n",
    "    \n",
    "    return"
   ]
  },
  {
   "cell_type": "markdown",
   "id": "685f1c7c",
   "metadata": {},
   "source": [
    "## Load data files\n",
    "The files are assumed to be named in the following way:\n",
    "> <dataname\\>\\<yyyymmdd\\>\\<version\\>\\<extension\\>\n",
    "\n",
    "Example:\n",
    "> path/to/datafolder/asi-AMSR2-s6250-20191111-v5.4.nc"
   ]
  },
  {
   "cell_type": "code",
   "execution_count": null,
   "id": "75b45e94",
   "metadata": {
    "scrolled": true
   },
   "outputs": [],
   "source": [
    "datafolder = '../temp/'\n",
    "dataname   = 'asi-AMSR2-s6250-'\n",
    "version    = '-v5.4'\n",
    "extension  = '.nc'\n",
    "\n",
    "gridfile   = '../data/LongitudeLatitudeGrid-s6250-Antarctic.nc'\n",
    "\n",
    "# Get full filename of data files:\n",
    "full_name = os.path.join(datafolder,dataname + '*' + version + extension)\n",
    "datafiles = sorted(glob.glob(full_name))\n",
    "datafiles"
   ]
  },
  {
   "cell_type": "markdown",
   "id": "443e6c10",
   "metadata": {},
   "source": [
    "Combine all files to a single data set. This will add a time dimension to the dataset, where the date is extracted from the file names. We will also add a timestamp 12:00 to the files."
   ]
  },
  {
   "cell_type": "code",
   "execution_count": null,
   "id": "8b25a401",
   "metadata": {},
   "outputs": [],
   "source": [
    "dateformat = '%Y%m%d'\n",
    "date_start = len(dataname)\n",
    "date_end   = date_start + 8\n",
    "\n",
    "time = []    \n",
    "for file in datafiles:\n",
    "    date = os.path.basename(file)[date_start:date_end]\n",
    "    datetime = pd.to_datetime(date + '12:00', format = dateformat+'%H:%M')\n",
    "    time.append(datetime)\n",
    "    \n",
    "sic = xr.open_mfdataset(datafiles, \n",
    "                        concat_dim = 'time', \n",
    "                        combine = 'nested',\n",
    "                       ).assign_coords({\"time\" : (time)})\n",
    "sic"
   ]
  },
  {
   "cell_type": "markdown",
   "id": "3d3bcde3",
   "metadata": {},
   "source": [
    "Now we add the longitude and latitude grids to the data set"
   ]
  },
  {
   "cell_type": "code",
   "execution_count": null,
   "id": "52709c59",
   "metadata": {},
   "outputs": [],
   "source": [
    "grid = xr.open_dataset(gridfile)\n",
    "sic  = xr.combine_by_coords([sic,grid])\n",
    "sic"
   ]
  },
  {
   "cell_type": "markdown",
   "id": "debf934f",
   "metadata": {},
   "source": [
    "As a sanity check, we plot the sea ice concentration of the first day in the data set"
   ]
  },
  {
   "cell_type": "code",
   "execution_count": null,
   "id": "3d107195",
   "metadata": {},
   "outputs": [],
   "source": [
    "plot_sic(sic.isel(time=0))"
   ]
  },
  {
   "cell_type": "markdown",
   "id": "ef84c2b2",
   "metadata": {},
   "source": [
    "## Select region and time interval"
   ]
  },
  {
   "cell_type": "code",
   "execution_count": null,
   "id": "e8badda1",
   "metadata": {},
   "outputs": [],
   "source": [
    "# select area\n",
    "lon_min = -10;\n",
    "lon_max = 10;\n",
    "lat_min = -60;\n",
    "lat_max = -54;\n",
    "\n",
    "xy_ilims   = misc.get_xy_limits_of_region(sic, lon_min, lon_max, lat_min, lat_max)\n",
    "sic_region = sic.isel(x = slice(xy_ilims[0],xy_ilims[1]+1), y = slice(xy_ilims[2],xy_ilims[3]+1))\n",
    "\n",
    "# separate winter and spring data\n",
    "time_separator = pd.to_datetime('20190901', format = dateformat)\n",
    "\n",
    "sic_spring = sic_region.sel(time = sic_region.time > time_separator)\n",
    "sic_winter = sic_region.sel(time = sic_region.time < time_separator)"
   ]
  },
  {
   "cell_type": "code",
   "execution_count": null,
   "id": "321b74b6",
   "metadata": {},
   "outputs": [],
   "source": [
    "plt.figure(figsize=(10,4))\n",
    "plot_sic(sic_spring.isel(time=0))"
   ]
  },
  {
   "cell_type": "markdown",
   "id": "d8505176",
   "metadata": {},
   "source": [
    "## Save data sets"
   ]
  },
  {
   "cell_type": "code",
   "execution_count": null,
   "id": "f20a9ef9",
   "metadata": {},
   "outputs": [],
   "source": [
    "savefolder = '../data/'\n",
    "\n",
    "sic_spring.to_netcdf(os.path.join(savefolder, 'sic_spring.nc'))\n",
    "sic_winter.to_netcdf(os.path.join(savefolder, 'sic_winter.nc'))"
   ]
  }
 ],
 "metadata": {
  "kernelspec": {
   "display_name": "Python 3 (ipykernel)",
   "language": "python",
   "name": "python3"
  },
  "language_info": {
   "codemirror_mode": {
    "name": "ipython",
    "version": 3
   },
   "file_extension": ".py",
   "mimetype": "text/x-python",
   "name": "python",
   "nbconvert_exporter": "python",
   "pygments_lexer": "ipython3",
   "version": "3.10.10"
  }
 },
 "nbformat": 4,
 "nbformat_minor": 5
}
