{
 "cells": [
  {
   "cell_type": "markdown",
   "id": "adaf4243",
   "metadata": {},
   "source": [
    "# Spectral wave attenuation for the winter deployment\n",
    "In this notebook, we derive frequency dependent wave attenuation using data from the winter deployment. During this deployment both buoys were in sea ice the whole time, and the wave activity was high enough to measure (significant wave height \\> 0.1 m) during the whole deployment. We derive the attenuation assuming an exponential decay. For each pair of data points, the attenuation coefficient $\\alpha$ is computed with\n",
    "$$\n",
    "\\alpha(f) = \\frac{\\ln(E_\\text{SWIFT20}(f) - E_\\text{SWIFT21}(f)}{d}\n",
    "$$\n",
    "where $f$ is the frequency, $E$ the power spectral density and $d$ is the projected distance between the buoys in wave direction. For computing $d$, the mean wave direction of the two buoys is used."
   ]
  },
  {
   "cell_type": "code",
   "execution_count": null,
   "id": "2789eebe",
   "metadata": {},
   "outputs": [],
   "source": [
    "import pandas as pd\n",
    "import matplotlib.pyplot as plt\n",
    "from matplotlib import rc\n",
    "\n",
    "import waves\n",
    "import attenuation as at\n",
    "\n",
    "rc('font', size = 14)"
   ]
  },
  {
   "cell_type": "code",
   "execution_count": null,
   "id": "fc4844ce",
   "metadata": {},
   "outputs": [],
   "source": [
    "swift20_file = \"../processed_data/swift20_winter.feather\"\n",
    "swift21_file = \"../processed_data/swift21_winter.feather\"\n",
    "\n",
    "frequency_range = [0.05, 0.13] #Hz"
   ]
  },
  {
   "cell_type": "markdown",
   "id": "d658802e",
   "metadata": {},
   "source": [
    "### Get wave properties from both buoys:"
   ]
  },
  {
   "cell_type": "code",
   "execution_count": null,
   "id": "bd5aa40b",
   "metadata": {},
   "outputs": [],
   "source": [
    "swift20 = pd.read_feather(swift20_file)\n",
    "swift21 = pd.read_feather(swift21_file)"
   ]
  },
  {
   "cell_type": "code",
   "execution_count": null,
   "id": "d49f8717",
   "metadata": {},
   "outputs": [],
   "source": [
    "tmin = max(swift20.timestamp[0], swift21.timestamp[0])\n",
    "tmax = min(swift20.timestamp[len(swift20)-1], swift21.timestamp[len(swift21)-1])\n",
    "\n",
    "swift20_pruned = swift20[(swift20.timestamp >= tmin) & (swift20.timestamp <= tmax)].reset_index()\n",
    "swift21_pruned = swift21[(swift21.timestamp >= tmin) & (swift21.timestamp <= tmax)].reset_index()"
   ]
  },
  {
   "cell_type": "markdown",
   "id": "3a757e71",
   "metadata": {},
   "source": [
    "### Compute pointwise attenuation\n",
    "To compute the projected distance between the two buoys, we use the mean wave direction. To check that this is reasonable, we first plot the wave direction measured by the two buoys."
   ]
  },
  {
   "cell_type": "code",
   "execution_count": null,
   "id": "9b567539",
   "metadata": {},
   "outputs": [],
   "source": [
    "plt.plot(swift20_pruned['timestamp'], swift20_pruned['swell.meandirT'])\n",
    "plt.plot(swift21_pruned['timestamp'], swift21_pruned['swell.meandirT'])\n",
    "plt.plot(swift20_pruned['timestamp'], (swift20_pruned['swell.meandirT']+swift21_pruned['swell.meandirT'])/2)\n",
    "plt.ylabel('direction (deg)')\n",
    "plt.grid()\n",
    "plt.title('Swell wave direction')\n",
    "plt.legend(['swift20', 'swift21', 'mean'])\n",
    "plt.show()"
   ]
  },
  {
   "cell_type": "markdown",
   "id": "f8cd8fb0",
   "metadata": {},
   "source": [
    "We are now ready to compute the frequency dependent attenuation"
   ]
  },
  {
   "cell_type": "code",
   "execution_count": null,
   "id": "f3004e9c",
   "metadata": {},
   "outputs": [],
   "source": [
    "distance = at.distance_in_wave_direction(swift20_pruned, swift21_pruned)\n",
    "swift20_spectra = waves.get_wavespectra(swift20_pruned)\n",
    "swift21_spectra = waves.get_wavespectra(swift21_pruned)\n",
    "\n",
    "ds = at.get_pointwise_attenuation(swift21_spectra, swift20_spectra, frequency_range, distance)\n",
    "ds.alpha.plot()"
   ]
  },
  {
   "cell_type": "markdown",
   "id": "aec4b6a8",
   "metadata": {},
   "source": [
    "### Fit to power law\n",
    "We now fit the pointwise attenuation to a power law\n",
    "$$\n",
    "\\alpha(f) = a \\cdot f^b\n",
    "$$\n",
    "using non-linear least squares. We will do this both with and without constraints on $b$."
   ]
  },
  {
   "cell_type": "code",
   "execution_count": null,
   "id": "396639f3",
   "metadata": {},
   "outputs": [],
   "source": [
    "# Initial parameter guess\n",
    "a0 = 1\n",
    "b0 = 3\n",
    "\n",
    "popt, pcov = at.fit_alpha(ds.alpha, a0,b0)\n",
    "popt_constr, pcov_constr = at.fit_alpha(ds.alpha, a0, b0, b_constraint = [2,4])\n",
    "\n",
    "print(\"Power law fit: a = %.2f, b = %.2f\" % (popt[0], popt[1]))\n",
    "print(\"with constraints: a = %.2f, b = %.2f\" % (popt_constr[0], popt_constr[1]))"
   ]
  },
  {
   "cell_type": "markdown",
   "id": "28af429b",
   "metadata": {},
   "source": [
    "## Box-and-whisker plot"
   ]
  },
  {
   "cell_type": "code",
   "execution_count": null,
   "id": "70efc580",
   "metadata": {},
   "outputs": [],
   "source": [
    "at.alpha_boxplot(ds.alpha)\n",
    "at.plot_fit(popt, label=r'$af^b$')\n",
    "at.plot_fit(popt_constr,\n",
    "             label=r'$af^b$, $2\\leq b\\leq 4]$',\n",
    "             linestyle='dashed')\n",
    "\n",
    "plt.legend(loc = 'lower right')\n",
    "plt.grid()"
   ]
  }
 ],
 "metadata": {
  "kernelspec": {
   "display_name": "Python 3 (ipykernel)",
   "language": "python",
   "name": "python3"
  },
  "language_info": {
   "codemirror_mode": {
    "name": "ipython",
    "version": 3
   },
   "file_extension": ".py",
   "mimetype": "text/x-python",
   "name": "python",
   "nbconvert_exporter": "python",
   "pygments_lexer": "ipython3",
   "version": "3.10.10"
  }
 },
 "nbformat": 4,
 "nbformat_minor": 5
}
